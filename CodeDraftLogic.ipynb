{
 "cells": [
  {
   "cell_type": "code",
   "execution_count": 31,
   "metadata": {},
   "outputs": [],
   "source": [
    "fb = open('finalbill.txt','w')\n",
    "fb.write('Item\\t\\tPrice\\t\\tQuantity\\n\\n')\n",
    "control = 'y'\n",
    "countitem =0\n",
    "total=0\n",
    "while control=='y' or control=='Y':\n",
    "    item = input('Enter item name: ')\n",
    "    price = int(input('Enter price: '))\n",
    "    quant = int(input('Enter quantity: '))\n",
    "    countitem+=1\n",
    "    cost = price*quant\n",
    "    #line = ','.join([item,str(price),str(quant)])\n",
    "    fb.write(item+'\\t\\t'+str(price)+'\\t\\t'+str(quant)+'\\n')\n",
    "    #fb.write(line+'\\n')\n",
    "    total+=cost\n",
    "    control= input('Enter y to add more items: ')\n",
    "#line2=','.join(['TOTAL\\t\\t\\t\\t',str(total)])\n",
    "fb.write('\\nItems Count\\t\\t'+str(countitem))\n",
    "fb.write('\\nTOTAL\\t\\t\\t'+str(total))\n",
    "fb.close()\n"
   ]
  }
 ],
 "metadata": {
  "interpreter": {
   "hash": "3a9d9c4581e6078b173ade4a12c848b5b0d910e393e4be271393ccc2bd4ce3e6"
  },
  "kernelspec": {
   "display_name": "Python 3.9.7 64-bit ('ML_DivineAI_Dec': conda)",
   "language": "python",
   "name": "python3"
  },
  "language_info": {
   "codemirror_mode": {
    "name": "ipython",
    "version": 3
   },
   "file_extension": ".py",
   "mimetype": "text/x-python",
   "name": "python",
   "nbconvert_exporter": "python",
   "pygments_lexer": "ipython3",
   "version": "3.9.7"
  },
  "orig_nbformat": 4
 },
 "nbformat": 4,
 "nbformat_minor": 2
}
